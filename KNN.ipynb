{
 "cells": [
  {
   "cell_type": "markdown",
   "id": "04f1e6bd-5fec-4118-9db6-fef7bf11b452",
   "metadata": {},
   "source": [
    "# Tsengun Batbold \n",
    "### HW3"
   ]
  },
  {
   "cell_type": "code",
   "execution_count": 3,
   "id": "991e75a9-31cf-40ae-ad88-cf6f98cf5245",
   "metadata": {},
   "outputs": [],
   "source": [
    "import pandas as pd"
   ]
  },
  {
   "cell_type": "code",
   "execution_count": 5,
   "id": "cd879446-5d34-403c-87b4-60932cef0c33",
   "metadata": {},
   "outputs": [],
   "source": [
    "trainingData = pd.read_csv(\"MNIST_train.csv\")\n",
    "testData = pd.read_csv(\"MNIST_test.csv\")"
   ]
  },
  {
   "cell_type": "code",
   "execution_count": 7,
   "id": "b6b14ddd-ecc5-442c-aaf6-7af64ec239ec",
   "metadata": {},
   "outputs": [],
   "source": [
    "def euclideanDistance(p,q):\n",
    "    #this sums the difference from all the 784 pixel values for the inputted rows from the data\n",
    "    distance = sum([(p.iloc[i] - q.iloc[i])**2 for i in range(1, len(p))])\n",
    "\n",
    "    return distance**0.5"
   ]
  },
  {
   "cell_type": "code",
   "execution_count": 9,
   "id": "a25e4339-e76c-4f88-a5e0-91da550feb2a",
   "metadata": {},
   "outputs": [],
   "source": [
    "def KNN(D, k, t):\n",
    "    N = []\n",
    "\n",
    "    # KNN algorithm implemented \n",
    "    for i in range(len(D)):\n",
    "        d = D.loc[i]\n",
    "        dDistance = euclideanDistance(t, d)\n",
    "\n",
    "        if len(N) < k:\n",
    "            N.append([d.iloc[0], dDistance])\n",
    "            # using a list with [label, distance of the row] values as using a Series obj proved difficult to manipulate data\n",
    "        else:\n",
    "            for u in N:\n",
    "                if u[1] > dDistance:\n",
    "                    N[N.index(u)] = [d.iloc[0], dDistance]\n",
    "                    break\n",
    "\n",
    "    # assigning class\n",
    "    #using a dict to store both labels and distances of the rows\n",
    "    classes = dict()\n",
    "    for u in N:\n",
    "        if u[0] in classes:\n",
    "            classes[u[0]] += (1/u[1])\n",
    "        else:\n",
    "            classes[u[0]] = (1/u[1])\n",
    "\n",
    "    return max(classes, key = classes.get)"
   ]
  },
  {
   "cell_type": "code",
   "execution_count": 11,
   "id": "4667c912-7c62-44c4-9753-695e1a1fd10c",
   "metadata": {},
   "outputs": [],
   "source": [
    "def func(D, k, t):\n",
    "    print(f\"K = {k}\")\n",
    "    misclassied = 0\n",
    "    total = len(t)\n",
    "    for i in range(len(t)):\n",
    "        desired = t.loc[i].iloc[0]\n",
    "        computed = KNN(D, k, t.loc[i])\n",
    "        #print(f\"Desired Class: {t.loc[i].iloc[0]} computed class: {computed}\")\n",
    "        if desired != computed:\n",
    "            misclassied += 1\n",
    "\n",
    "    accuracy = round((total-misclassied)*100/total)\n",
    "                \n",
    "    print(f\"Accuracy rate: {accuracy}%\")\n",
    "    print(f\"Number of misclassified test samples: {misclassied}\")\n",
    "    print(f\"Total number of test samples: {total}\")"
   ]
  },
  {
   "cell_type": "markdown",
   "id": "24fab923-6e26-407b-ab27-997d386db3e9",
   "metadata": {},
   "source": [
    "### Testing values for K value"
   ]
  },
  {
   "cell_type": "code",
   "execution_count": 14,
   "id": "e32eb46d-85d8-44a1-a784-0ebe11cb1e80",
   "metadata": {
    "scrolled": true
   },
   "outputs": [
    {
     "name": "stdout",
     "output_type": "stream",
     "text": [
      "K = 5\n",
      "Accuracy rate: 82%\n",
      "Number of misclassified test samples: 9\n",
      "Total number of test samples: 50\n",
      "K = 6\n",
      "Accuracy rate: 78%\n",
      "Number of misclassified test samples: 11\n",
      "Total number of test samples: 50\n",
      "K = 7\n",
      "Accuracy rate: 76%\n",
      "Number of misclassified test samples: 12\n",
      "Total number of test samples: 50\n"
     ]
    }
   ],
   "source": [
    "# testing with func, which prints desired class and computed class\n",
    "func(trainingData, 5, testData)\n",
    "func(trainingData, 6, testData)\n",
    "func(trainingData, 7, testData)"
   ]
  },
  {
   "cell_type": "markdown",
   "id": "e70f8fd5-84b4-49c0-ad4b-2969ce52987d",
   "metadata": {},
   "source": [
    "##### It is seen that as K = 4 increase, the inaccuracy also increases\n",
    "##### So I try lower values"
   ]
  },
  {
   "cell_type": "code",
   "execution_count": 16,
   "id": "b9615b85-b749-4831-940d-d8b57e09a326",
   "metadata": {},
   "outputs": [
    {
     "name": "stdout",
     "output_type": "stream",
     "text": [
      "K = 3\n",
      "Accuracy rate: 88%\n",
      "Number of misclassified test samples: 6\n",
      "Total number of test samples: 50\n",
      "K = 2\n",
      "Accuracy rate: 84%\n",
      "Number of misclassified test samples: 8\n",
      "Total number of test samples: 50\n",
      "K = 1\n",
      "Accuracy rate: 84%\n",
      "Number of misclassified test samples: 8\n",
      "Total number of test samples: 50\n"
     ]
    }
   ],
   "source": [
    "func(trainingData, 3, testData)\n",
    "func(trainingData, 2, testData)\n",
    "func(trainingData, 1, testData)"
   ]
  },
  {
   "cell_type": "markdown",
   "id": "cece2036-e3e9-4d84-9dcb-8fede6d51848",
   "metadata": {},
   "source": [
    "##### As seen in the above examples as K decreases from 4, 3 down the accuracy decreases\n",
    "##### It is stated that K = 4 isn't the best K value, so I'm choosing 3 as the best value"
   ]
  },
  {
   "cell_type": "markdown",
   "id": "c0d3eef3-467a-4561-aa64-678caa4951ed",
   "metadata": {},
   "source": [
    "### Required output for the program"
   ]
  },
  {
   "cell_type": "code",
   "execution_count": 19,
   "id": "d73038e8-a7ee-4a27-be16-a80ffbda1bda",
   "metadata": {},
   "outputs": [
    {
     "name": "stdout",
     "output_type": "stream",
     "text": [
      "K = 3\n",
      "Desired Class: 0 computed class: 0\n",
      "Desired Class: 0 computed class: 0\n",
      "Desired Class: 0 computed class: 0\n",
      "Desired Class: 0 computed class: 0\n",
      "Desired Class: 0 computed class: 0\n",
      "Desired Class: 1 computed class: 1\n",
      "Desired Class: 1 computed class: 1\n",
      "Desired Class: 1 computed class: 1\n",
      "Desired Class: 1 computed class: 1\n",
      "Desired Class: 1 computed class: 1\n",
      "Desired Class: 2 computed class: 8\n",
      "Desired Class: 2 computed class: 2\n",
      "Desired Class: 2 computed class: 2\n",
      "Desired Class: 2 computed class: 7\n",
      "Desired Class: 2 computed class: 2\n",
      "Desired Class: 3 computed class: 7\n",
      "Desired Class: 3 computed class: 3\n",
      "Desired Class: 3 computed class: 3\n",
      "Desired Class: 3 computed class: 3\n",
      "Desired Class: 3 computed class: 3\n",
      "Desired Class: 4 computed class: 4\n",
      "Desired Class: 4 computed class: 4\n",
      "Desired Class: 4 computed class: 9\n",
      "Desired Class: 4 computed class: 4\n",
      "Desired Class: 4 computed class: 9\n",
      "Desired Class: 5 computed class: 5\n",
      "Desired Class: 5 computed class: 6\n",
      "Desired Class: 5 computed class: 5\n",
      "Desired Class: 5 computed class: 5\n",
      "Desired Class: 5 computed class: 5\n",
      "Desired Class: 6 computed class: 6\n",
      "Desired Class: 6 computed class: 6\n",
      "Desired Class: 6 computed class: 6\n",
      "Desired Class: 6 computed class: 6\n",
      "Desired Class: 6 computed class: 6\n",
      "Desired Class: 7 computed class: 7\n",
      "Desired Class: 7 computed class: 7\n",
      "Desired Class: 7 computed class: 7\n",
      "Desired Class: 7 computed class: 7\n",
      "Desired Class: 7 computed class: 7\n",
      "Desired Class: 8 computed class: 8\n",
      "Desired Class: 8 computed class: 8\n",
      "Desired Class: 8 computed class: 8\n",
      "Desired Class: 8 computed class: 8\n",
      "Desired Class: 8 computed class: 8\n",
      "Desired Class: 9 computed class: 9\n",
      "Desired Class: 9 computed class: 9\n",
      "Desired Class: 9 computed class: 9\n",
      "Desired Class: 9 computed class: 9\n",
      "Desired Class: 9 computed class: 9\n",
      "Accuracy rate: 88%\n",
      "Number of misclassified test samples: 6\n",
      "Total number of test samples: 50\n"
     ]
    }
   ],
   "source": [
    "#This function is the same as func, only difference is the print statement in the for loop\n",
    "def func2(D, k, t):\n",
    "    print(f\"K = {k}\")\n",
    "    misclassied = 0\n",
    "    total = len(t)\n",
    "    for i in range(len(t)):\n",
    "        desired = t.loc[i].iloc[0]\n",
    "        computed = KNN(D, k, t.loc[i])\n",
    "        print(f\"Desired Class: {t.loc[i].iloc[0]} computed class: {computed}\")\n",
    "        if desired != computed:\n",
    "            misclassied += 1\n",
    "\n",
    "    accuracy = round((total-misclassied)*100/total)\n",
    "                \n",
    "    print(f\"Accuracy rate: {accuracy}%\")\n",
    "    print(f\"Number of misclassified test samples: {misclassied}\")\n",
    "    print(f\"Total number of test samples: {total}\")\n",
    "\n",
    "func2(trainingData, 3, testData)"
   ]
  },
  {
   "cell_type": "code",
   "execution_count": null,
   "id": "63299877-2e93-4f37-8df3-f634b857583a",
   "metadata": {},
   "outputs": [],
   "source": []
  }
 ],
 "metadata": {
  "kernelspec": {
   "display_name": "Python 3 (ipykernel)",
   "language": "python",
   "name": "python3"
  },
  "language_info": {
   "codemirror_mode": {
    "name": "ipython",
    "version": 3
   },
   "file_extension": ".py",
   "mimetype": "text/x-python",
   "name": "python",
   "nbconvert_exporter": "python",
   "pygments_lexer": "ipython3",
   "version": "3.13.2"
  }
 },
 "nbformat": 4,
 "nbformat_minor": 5
}
