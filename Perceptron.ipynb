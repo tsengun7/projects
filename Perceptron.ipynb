{
 "cells": [
  {
   "cell_type": "markdown",
   "id": "86c307c8-8383-48bc-a73f-caf662e25153",
   "metadata": {},
   "source": [
    "### Tsengun Batbold\n",
    "##### Stopping criteria: iterrated over the training set until weights weren't changed\n",
    "##### 100%\n"
   ]
  },
  {
   "cell_type": "code",
   "execution_count": 26,
   "id": "3adc6d13-ece4-42aa-b330-617d715c8f71",
   "metadata": {},
   "outputs": [],
   "source": [
    "D = []\n",
    "with open('training_data.txt', 'r') as training_data:\n",
    "    for line in training_data:\n",
    "        nums = [float(x) for x in line.strip().split()]\n",
    "        D.append(nums)\n",
    "tD = []\n",
    "with open('testing_data.txt', 'r') as testing_data:\n",
    "    for line in testing_data:\n",
    "        nums = [float(x) for x in line.strip().split()]\n",
    "        tD.append(nums)"
   ]
  },
  {
   "cell_type": "code",
   "execution_count": 28,
   "id": "e5668a9a-e31c-4d39-ac45-d0e6070f6ed4",
   "metadata": {},
   "outputs": [],
   "source": [
    "def f(x,w):\n",
    "    s = 0\n",
    "    for i in range(len(x)):\n",
    "        s += x[i]*w[i]\n",
    "\n",
    "    if s > 0:\n",
    "        return 1\n",
    "    else:\n",
    "        return -1"
   ]
  },
  {
   "cell_type": "code",
   "execution_count": 30,
   "id": "49d691c9-2cdb-4f39-9a1d-f097f1e77002",
   "metadata": {},
   "outputs": [
    {
     "name": "stdout",
     "output_type": "stream",
     "text": [
      "[10.434999999999997, -10.13]\n"
     ]
    }
   ],
   "source": [
    "def learningPerceptron(D):\n",
    "    learning_rate = 0.25\n",
    "    changes = 1\n",
    "    w = [-1,1]\n",
    "    while changes != 0:\n",
    "        changes = len(D)\n",
    "        for i in D:\n",
    "            prediction = f(i[:-1], w)\n",
    "            error = i[-1] - prediction\n",
    "            #print(f\"[{i[0]} {i[1]}] {error}\") # used this print statement to check the progress\n",
    "            if error != 0:\n",
    "                for j in range(len(w)):\n",
    "                    w[j] = w[j] + learning_rate*error*i[j]\n",
    "            else:\n",
    "                changes -= 1 # when every x is predicted correctly changes will = 0\n",
    "\n",
    "    return w\n",
    "\n",
    "print(learningPerceptron(D))"
   ]
  },
  {
   "cell_type": "code",
   "execution_count": 32,
   "id": "334e57f2-6b8f-483f-90ff-2c3b9b316241",
   "metadata": {},
   "outputs": [],
   "source": [
    "def perceptron(td):\n",
    "    w = learningPerceptron(D)\n",
    "    correct = 0\n",
    "    for i in td:\n",
    "        predict = f(i[:-1], w)\n",
    "        y = i[-1]\n",
    "        if y == predict:\n",
    "            correct += 1\n",
    "\n",
    "        print(f\"{i[:-1]} Actual label:{y} Predicted label:{predict}\")\n",
    "    \n",
    "    acc = (100/len(td)) * correct\n",
    "    print(f\"Accuracy rate: {acc}%\")\n",
    "    print(f\"Learned weights are: {w}\")\n",
    "    "
   ]
  },
  {
   "cell_type": "code",
   "execution_count": 34,
   "id": "83679781-1ce7-450f-bb80-a68f978f9b38",
   "metadata": {},
   "outputs": [
    {
     "name": "stdout",
     "output_type": "stream",
     "text": [
      "[5.32, 0.37] Actual label:1.0 Predicted label:1\n",
      "[-4.06, -6.25] Actual label:1.0 Predicted label:1\n",
      "[-1.17, -6.83] Actual label:1.0 Predicted label:1\n",
      "[7.6, -4.52] Actual label:1.0 Predicted label:1\n",
      "[-1.72, -4.08] Actual label:1.0 Predicted label:1\n",
      "[2.58, 1.6] Actual label:1.0 Predicted label:1\n",
      "[2.0, -4.68] Actual label:1.0 Predicted label:1\n",
      "[-4.31, -4.93] Actual label:1.0 Predicted label:1\n",
      "[-3.45, -7.12] Actual label:1.0 Predicted label:1\n",
      "[9.2, -6.23] Actual label:1.0 Predicted label:1\n",
      "[-5.56, 7.41] Actual label:-1.0 Predicted label:-1\n",
      "[-5.87, 8.37] Actual label:-1.0 Predicted label:-1\n",
      "[-0.23, 2.23] Actual label:-1.0 Predicted label:-1\n",
      "[-8.39, 4.77] Actual label:-1.0 Predicted label:-1\n",
      "[-6.69, 9.28] Actual label:-1.0 Predicted label:-1\n",
      "[-9.51, -5.91] Actual label:-1.0 Predicted label:-1\n",
      "[4.0, 5.59] Actual label:-1.0 Predicted label:-1\n",
      "[-9.54, 1.55] Actual label:-1.0 Predicted label:-1\n",
      "[-9.97, 0.31] Actual label:-1.0 Predicted label:-1\n",
      "[2.8, 9.71] Actual label:-1.0 Predicted label:-1\n",
      "Accuracy rate: 100.0%\n",
      "Learned weights are: [10.434999999999997, -10.13]\n"
     ]
    }
   ],
   "source": [
    "perceptron(tD)"
   ]
  },
  {
   "cell_type": "code",
   "execution_count": 48,
   "id": "e1e7c70f-3141-4f63-b221-432a643e1e5a",
   "metadata": {},
   "outputs": [
    {
     "data": {
      "text/plain": [
       "20"
      ]
     },
     "execution_count": 48,
     "metadata": {},
     "output_type": "execute_result"
    }
   ],
   "source": [
    "len(tD)"
   ]
  },
  {
   "cell_type": "code",
   "execution_count": null,
   "id": "2b6a8792-2c2c-4f5a-97e6-08737377d7eb",
   "metadata": {},
   "outputs": [],
   "source": []
  }
 ],
 "metadata": {
  "kernelspec": {
   "display_name": "Python 3 (ipykernel)",
   "language": "python",
   "name": "python3"
  },
  "language_info": {
   "codemirror_mode": {
    "name": "ipython",
    "version": 3
   },
   "file_extension": ".py",
   "mimetype": "text/x-python",
   "name": "python",
   "nbconvert_exporter": "python",
   "pygments_lexer": "ipython3",
   "version": "3.13.2"
  }
 },
 "nbformat": 4,
 "nbformat_minor": 5
}
